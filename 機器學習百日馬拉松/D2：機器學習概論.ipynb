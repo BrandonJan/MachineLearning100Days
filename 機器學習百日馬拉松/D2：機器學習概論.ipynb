{
 "cells": [
  {
   "cell_type": "markdown",
   "source": [
    "## [作業目標]\n",
    "了解機器學習適合應用的領域與範疇。"
   ],
   "metadata": {}
  },
  {
   "cell_type": "markdown",
   "source": [
    "## [作業重點]\n",
    "透過瞭解機器學習的運作方式，找出非常適用機器學習應用的領域及其原因"
   ],
   "metadata": {}
  },
  {
   "cell_type": "markdown",
   "source": [
    "## 作業\n",
    "請找出一個你認為機器學習可以發光發熱的領域並闡述原因? "
   ],
   "metadata": {}
  },
  {
   "cell_type": "code",
   "execution_count": null,
   "source": [
    "醫藥界，首先因為擁有大量資料能作為訓練的資本，再來是如今高齡化的社會使得需求越發迫切，\r\n",
    "若能運用機器學習不僅能節省人力，更能預防錯誤服藥重複用藥之事發生。\r\n",
    "\r\n",
    "另外股票也是，相信若能掌握短線飆股的長相和型態，以及長線穩定股票的特性都能擁有不錯的獲利。\r\n",
    "    "
   ],
   "outputs": [],
   "metadata": {}
  },
  {
   "cell_type": "code",
   "execution_count": 2,
   "source": [
    "\r\n",
    "import tensorflow\r\n",
    "import keras"
   ],
   "outputs": [
    {
     "output_type": "stream",
     "name": "stderr",
     "text": [
      "C:\\Users\\Brandon\\Anaconda3\\lib\\site-packages\\h5py\\__init__.py:36: FutureWarning: Conversion of the second argument of issubdtype from `float` to `np.floating` is deprecated. In future, it will be treated as `np.float64 == np.dtype(float).type`.\n",
      "  from ._conv import register_converters as _register_converters\n",
      "Using TensorFlow backend.\n"
     ]
    }
   ],
   "metadata": {}
  }
 ],
 "metadata": {
  "kernelspec": {
   "name": "python3",
   "display_name": "Python 3.6.4 64-bit ('base': conda)"
  },
  "language_info": {
   "codemirror_mode": {
    "name": "ipython",
    "version": 3
   },
   "file_extension": ".py",
   "mimetype": "text/x-python",
   "name": "python",
   "nbconvert_exporter": "python",
   "pygments_lexer": "ipython3",
   "version": "3.6.4"
  },
  "interpreter": {
   "hash": "1173d45ba291bb8103290b86d84dc8188b01e1e003afe111fd536f43d6741147"
  }
 },
 "nbformat": 4,
 "nbformat_minor": 2
}