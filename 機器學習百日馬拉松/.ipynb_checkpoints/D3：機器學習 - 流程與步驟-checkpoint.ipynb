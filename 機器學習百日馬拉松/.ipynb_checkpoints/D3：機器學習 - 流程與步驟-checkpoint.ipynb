{
 "cells": [
  {
   "cell_type": "markdown",
   "metadata": {},
   "source": [
    "## [作業目標]\n",
    "持續接觸有關機器學習的相關專案與最新技術"
   ]
  },
  {
   "cell_type": "markdown",
   "metadata": {},
   "source": [
    "## [作業重點]\n",
    "透過觀察頂尖公司的機器學習文章，來了解各公司是怎麼應用機器學習在實際的專案上"
   ]
  },
  {
   "cell_type": "markdown",
   "metadata": {},
   "source": [
    "## [作業]\n",
    "今天的作業希望大家能夠看看全球機器學習巨頭們在做的機器學習專案。以 google 為例，下圖是 Google 內部專案使用機器學習的數量，隨著時間進展，現在早已超過 2000 個專案在使用機器學習。"
   ]
  },
  {
   "cell_type": "markdown",
   "metadata": {},
   "source": [
    "![image](https://cdn-images-1.medium.com/max/800/1*U_L8qI8RmYS-MOBrYvXhSA.png)"
   ]
  },
  {
   "cell_type": "markdown",
   "metadata": {},
   "source": [
    "底下幫同學整理幾間知名企業的 blog 或機器學習網站 (自行搜尋也可)，這些網站都會整理最新的機器學習專案或者是技術文章，請挑選一篇文章閱讀並試著回答\n",
    "1. 專案的目標？ (要解決什麼問題）\n",
    "2. 使用的技術是？ (只需知道名稱即可，例如：使用 CNN 卷積神經網路做影像分類)\n",
    "3. 資料來源？ "
   ]
  },
  {
   "cell_type": "markdown",
   "metadata": {},
   "source": [
    "- [Google AI blog](https://ai.googleblog.com/)\n",
    "- [Facebook Research blog](https://research.fb.com/blog/)\n",
    "- [Apple machine learning journal](https://machinelearning.apple.com/)\n",
    "- [機器之心](https://www.jiqizhixin.com/)\n",
    "- [雷鋒網](http://www.leiphone.com/category/ai)"
   ]
  },
  {
   "cell_type": "code",
   "execution_count": null,
   "metadata": {},
   "outputs": [],
   "source": [
    "1.專案的目標？ 使用製造出的3D 奈米機器人，有望在智能仿生感知、藥物遞送等領域發揮巨大的潛力\n",
    "2.使用的技術是？ 電子束光刻（Electron beam lithography, EBL）, Casino Monte Carlo 模擬程序修改的自定義代碼來模擬電子的軌跡以及電子和抗蝕劑之間的能量轉移，\n",
    "以探究 3D 空間中電子 - 蛋白質的交互作用, 基因工程\n",
    "3.資料來源？https://www.jiqizhixin.com/articles/2021-09-19\n",
    "    \n",
    "    感覺上述跟機器學習範圍牽涉相關不大，故另找一篇\n",
    "\n",
    "1.專案的目標？ 有“意識”的智能手臂，智能手臂需要解碼來自現有運動神經的信號（這些信號的作用是向手指發出移動指令）。\n",
    "現有運動神經信號來自截肢者殘肢剩餘的神經。\n",
    "2.使用的技術是？ 文章中只提到用 AI algorithm，藉由受試者做幾個手部動作來檢測其手肘上部的神經肌肉活動。\n",
    "這樣，AI就可以“意識”到患者截肢部位的肌肉刺激與特定的手部運動的關係\n",
    "3.資料來源？https://www.docwirenews.com/future-of-medicine/ai-powered-prosthetic-hand-provides-unprecedented-control-for-amputees/"
   ]
  }
 ],
 "metadata": {
  "kernelspec": {
   "display_name": "Python 3",
   "language": "python",
   "name": "python3"
  },
  "language_info": {
   "codemirror_mode": {
    "name": "ipython",
    "version": 3
   },
   "file_extension": ".py",
   "mimetype": "text/x-python",
   "name": "python",
   "nbconvert_exporter": "python",
   "pygments_lexer": "ipython3",
   "version": "3.6.4"
  }
 },
 "nbformat": 4,
 "nbformat_minor": 2
}
